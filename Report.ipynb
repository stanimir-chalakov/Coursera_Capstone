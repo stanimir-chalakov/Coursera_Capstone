{
 "cells": [
  {
   "cell_type": "markdown",
   "metadata": {},
   "source": [
    "# Report"
   ]
  },
  {
   "cell_type": "markdown",
   "metadata": {},
   "source": [
    "We can see from the results that there are more Café-type of stores in the city of Toronto than in New York City. \n",
    "\n",
    "Toronto has 18 top Cafés, whereas, Manhattan, NYC has only 8. "
   ]
  },
  {
   "cell_type": "markdown",
   "metadata": {},
   "source": [
    "### Therefore, it would be better to start the business in Toronto as there are more stores to which our firm can cater to, than in NYC. Furthermore, we sould locate our facilities within the borough of Downtown Toronto as there are 14 areas in which Cafés are prevalent. "
   ]
  },
  {
   "cell_type": "markdown",
   "metadata": {},
   "source": [
    "### Neighborhoods with the most Coffee Shops and Cafes are:"
   ]
  },
  {
   "cell_type": "markdown",
   "metadata": {},
   "source": [
    "Summerhill West, Rathnelly, South Hill - Central Toronto\n",
    "\n",
    "Central Bay Street - Downtown Toronto\n",
    "\n",
    "Church and Wellesley - Downtown Toronto\n",
    "\n",
    "Commerce Court, Victoria Hotel - Downtown Toronto\n",
    "\n",
    "First Canadian Place, Underground city - Downtown Toronto\n",
    "\n",
    "Garden District, Ryerson - Downtown Toronto\n",
    "\n",
    "Harbourfront East, Union Station, Toronto Islands - Downtown Toronto\n",
    "\n",
    "Kensington Market, Chinatown, Grange Park - Downtown Toronto\n",
    "\n",
    "Regent Park, Harbourfront - Downtown Toronto\n",
    "\n",
    "Richmond, Adelaide, King - Downtown Toronto\n",
    "\n",
    "St. James Town - Downtown Toronto\n",
    "\n",
    "St. James Town, Cabbagetown - Downtown Toronto\n",
    "\n",
    "Toronto Dominion Centre, Design Exchange - Downtown Toronto\n",
    "\n",
    "University of Toronto, Harbord - Downtown Toronto\n",
    "\n",
    "Enclave of M5E - Downtown Toronto\n",
    "\n",
    "Studio District - East Toronto\n",
    "\n",
    "Brockton, Parkdale Village, Exhibition Place - West Toronto\n",
    "\n",
    "Runnymede, Swansea - West Toronto\n",
    "\n",
    "#### There is a total of 14 Coffee Shops or Cafés in Downtown Toronto and 18 of these as most popular venue within the City's Neighborhoods.¶"
   ]
  },
  {
   "cell_type": "markdown",
   "metadata": {},
   "source": [
    "### Neighbourhoods with Coffee shop or Café in Manhattan, New York City:"
   ]
  },
  {
   "cell_type": "markdown",
   "metadata": {},
   "source": [
    "Carnegie Hill\n",
    "\n",
    "Civic Center\n",
    "\n",
    "Financial District\n",
    "\n",
    "Manhattanville\n",
    "\n",
    "Marble Hill\n",
    "\n",
    "Roosevelt Island\n",
    "\n",
    "Washington Heights"
   ]
  },
  {
   "cell_type": "markdown",
   "metadata": {},
   "source": [
    "#### There are a total of 7 Coffee shop or Cafés on first position within the district of Manhattan."
   ]
  }
 ],
 "metadata": {
  "kernelspec": {
   "display_name": "Python 3",
   "language": "python",
   "name": "python3"
  },
  "language_info": {
   "codemirror_mode": {
    "name": "ipython",
    "version": 3
   },
   "file_extension": ".py",
   "mimetype": "text/x-python",
   "name": "python",
   "nbconvert_exporter": "python",
   "pygments_lexer": "ipython3",
   "version": "3.8.5"
  }
 },
 "nbformat": 4,
 "nbformat_minor": 4
}
